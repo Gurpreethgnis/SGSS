{
 "cells": [
  {
   "cell_type": "code",
   "execution_count": 1,
   "id": "c25cc649",
   "metadata": {},
   "outputs": [
    {
     "name": "stderr",
     "output_type": "stream",
     "text": [
      "[nltk_data] Downloading package stopwords to /Users/gnvuy/nltk_data...\n",
      "[nltk_data]   Package stopwords is already up-to-date!\n"
     ]
    }
   ],
   "source": [
    "#Import Libraries\n",
    "import pandas as pd\n",
    "import numpy as np\n",
    "import string, nltk, gensim, os\n",
    "from nltk.tokenize import RegexpTokenizer\n",
    "from nltk.corpus import stopwords\n",
    "nltk.download('stopwords')\n",
    "\n",
    "def read_text_file(filename):\n",
    "    with open(filename) as f:\n",
    "        lines = f.readlines()\n",
    "    return lines\n",
    "def separate_text(file):\n",
    "    punjabi = []\n",
    "    transliteration = []\n",
    "    translation = []\n",
    "    for i in range(0,len(file),3):\n",
    "        punjabi.append(file[i])\n",
    "        transliteration.append(file[i+1])\n",
    "        translation.append(file[i+2])\n",
    "    return punjabi, transliteration, translation"
   ]
  },
  {
   "cell_type": "code",
   "execution_count": 2,
   "id": "b2e8765f",
   "metadata": {},
   "outputs": [],
   "source": [
    "data_directory= '../data'"
   ]
  },
  {
   "cell_type": "code",
   "execution_count": 22,
   "id": "8faee7de",
   "metadata": {},
   "outputs": [],
   "source": [
    "import os\n",
    "filenames = os.listdir(data_directory)\n",
    "for filename in filenames:\n",
    "    nfilename = 'SGGS'+filename.split(' ')[-1].split('.txt')[0].zfill(5)+'.txt'\n",
    "    oname = os.path.join(data_directory,filename)\n",
    "    nname = os.path.join(data_directory,nfilename)\n",
    "    os.rename(oname,nname)"
   ]
  },
  {
   "cell_type": "code",
   "execution_count": 25,
   "id": "f3d1e907",
   "metadata": {},
   "outputs": [],
   "source": [
    "from tqdm import tqdm"
   ]
  },
  {
   "cell_type": "code",
   "execution_count": 26,
   "id": "05d140a4",
   "metadata": {},
   "outputs": [],
   "source": [
    "PUN_file = []\n",
    "TLT_file = []\n",
    "TRS_file = []\n",
    "for text_file in sorted(os.listdir(data_directory)):\n",
    "    file_dir  = os.path.join(data_directory,text_file)\n",
    "    t_PUN, t_TLT, t_TRS = separate_text(read_text_file(file_dir))\n",
    "    PUN_file = PUN_file + t_PUN\n",
    "    TLT_file = TLT_file + t_TLT\n",
    "    TRS_file = TRS_file + t_TRS"
   ]
  },
  {
   "cell_type": "code",
   "execution_count": 34,
   "id": "a705b694",
   "metadata": {},
   "outputs": [],
   "source": [
    "with open('Complete_Translation_SGGS.txt', 'w') as f:\n",
    "    for line in TRS_file:\n",
    "        f.write(line)\n"
   ]
  },
  {
   "cell_type": "code",
   "execution_count": 32,
   "id": "cd1c5e56",
   "metadata": {},
   "outputs": [],
   "source": [
    "f.close()"
   ]
  },
  {
   "cell_type": "code",
   "execution_count": null,
   "id": "60a88b37",
   "metadata": {},
   "outputs": [],
   "source": []
  }
 ],
 "metadata": {
  "kernelspec": {
   "display_name": "SGGS_P38",
   "language": "python",
   "name": "sggs_p38"
  },
  "language_info": {
   "codemirror_mode": {
    "name": "ipython",
    "version": 3
   },
   "file_extension": ".py",
   "mimetype": "text/x-python",
   "name": "python",
   "nbconvert_exporter": "python",
   "pygments_lexer": "ipython3",
   "version": "3.8.15"
  }
 },
 "nbformat": 4,
 "nbformat_minor": 5
}
